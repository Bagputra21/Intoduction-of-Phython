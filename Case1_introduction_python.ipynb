{
  "cells": [
    {
      "cell_type": "markdown",
      "id": "39bf7b14",
      "metadata": {
        "id": "39bf7b14"
      },
      "source": [
        "## Buatlah sebuah program yang:\n",
        "\n",
        "   1. Meminta input dari pengguna:\n",
        "\n",
        "       - Nama mahasiswa\n",
        "\n",
        "       - NIM mahasiswa\n",
        "\n",
        "       - Nilai ujian (dalam angka, 0–100)\n",
        "\n",
        "   2. Cek dan tampilkan tipe data dari setiap input.\n",
        "\n",
        "   3. Gunakan if-elif-else untuk menentukan kategori nilai, dengan kriteria sebagai berikut:\n",
        "   \n",
        "```\n",
        "Nilai | Kategori\n",
        "85 - 100 | A (Sangat Baik)\n",
        "75 - 84 | B (Baik)\n",
        "60 - 74 | C (Cukup)\n",
        "40 - 59 | D (Kurang)\n",
        "< 40 | E (Sangat Kurang)\n",
        "```\n",
        "\n",
        "```\n",
        "==== Ekspektasi Output Jawaban : =====\n",
        "Masukkan nama mahasiswa: Sarah\n",
        "Masukkan NIM: 12345678\n",
        "Masukkan nilai ujian (0-100): 81\n",
        "\n",
        "Nama: Sarah (type: <class 'str'>)\n",
        "NIM: 12345678 (type: <class 'str'>)\n",
        "Nilai: 81 (type: <class 'int'>)\n",
        "\n",
        "Hasil Evaluasi:\n",
        "Mahasiswa: Sarah (NIM: 12345678)\n",
        "Nilai Ujian: 81\n",
        "Kategori Nilai: B (Baik)\n",
        "```"
      ]
    },
    {
      "cell_type": "markdown",
      "source": [
        "# Assign Value suatu Variabel dan mendapatkan type data"
      ],
      "metadata": {
        "id": "qsdnasjLfigm"
      },
      "id": "qsdnasjLfigm"
    },
    {
      "cell_type": "code",
      "execution_count": 3,
      "id": "e2ab644c",
      "metadata": {
        "id": "e2ab644c",
        "colab": {
          "base_uri": "https://localhost:8080/"
        },
        "outputId": "89cf0663-63ff-405a-8b03-5f2569b50192"
      },
      "outputs": [
        {
          "output_type": "stream",
          "name": "stdout",
          "text": [
            "<class 'str'>\n",
            "<class 'str'>\n",
            "<class 'int'>\n",
            "Nama: Della Aulia\n",
            "NIM: 2345678\n",
            "Nilai: 80\n"
          ]
        }
      ],
      "source": [
        "#Assign Value sebuah variabel\n",
        "\n",
        "Nama = \"Della Aulia\"\n",
        "NIM  = \"2345678\"\n",
        "Nilai = 80\n",
        "\n",
        "#Menapatkan jenis data\n",
        "\n",
        "print (type(Nama))\n",
        "print (type(NIM))\n",
        "print (type(Nilai))\n",
        "\n",
        "print (f\"Nama: {Nama}\")\n",
        "print (f\"NIM: {NIM}\")\n",
        "print (f\"Nilai: {Nilai}\")\n",
        "\n"
      ]
    },
    {
      "cell_type": "code",
      "source": [
        "#Kategori pada Variabel Nilai\n",
        "\n",
        "if Nilai >= 85:\n",
        "  print (\"Kategori Nilai: A (Sangat Baik)\")\n",
        "elif Nilai >= 75:\n",
        "  print (\"Kategori Nilai: B (Baik)\")\n",
        "elif Nilai >= 60:\n",
        "  print (\"Kategori Nilai: C (Cukup)\")\n",
        "elif Nilai >=40:\n",
        "  print (\"Kategori Nilai: D (Kurang\")\n",
        "else:\n",
        "  print (\"Kategori Nilai: E (Buruk)\")"
      ],
      "metadata": {
        "id": "NmedxM5q3Z1v",
        "colab": {
          "base_uri": "https://localhost:8080/"
        },
        "outputId": "2190578d-4b82-44d9-a0ca-611039a00663"
      },
      "id": "NmedxM5q3Z1v",
      "execution_count": 5,
      "outputs": [
        {
          "output_type": "stream",
          "name": "stdout",
          "text": [
            "Kategori Nilai: B (Baik)\n"
          ]
        }
      ]
    }
  ],
  "metadata": {
    "kernelspec": {
      "display_name": "Python 3 (ipykernel)",
      "language": "python",
      "name": "python3"
    },
    "language_info": {
      "codemirror_mode": {
        "name": "ipython",
        "version": 3
      },
      "file_extension": ".py",
      "mimetype": "text/x-python",
      "name": "python",
      "nbconvert_exporter": "python",
      "pygments_lexer": "ipython3",
      "version": "3.11.4"
    },
    "colab": {
      "provenance": []
    }
  },
  "nbformat": 4,
  "nbformat_minor": 5
}