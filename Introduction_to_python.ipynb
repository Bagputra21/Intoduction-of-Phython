{
  "cells": [
    {
      "cell_type": "markdown",
      "id": "4575da9a",
      "metadata": {
        "id": "4575da9a"
      },
      "source": [
        "# Input - Output\n",
        "Inputs and outputs are close to the discussion of variables\n",
        "\n",
        "## Variables\n",
        "\n",
        "Variables are containers for storing data values.\n",
        "\n",
        "### Creating Variables\n",
        "\n",
        "Python has no command for declaring a variable.\n",
        "\n",
        "A variable is created the moment you first assign a value to it."
      ]
    },
    {
      "cell_type": "code",
      "source": [],
      "metadata": {
        "id": "KxyO5-nBHWfB"
      },
      "id": "KxyO5-nBHWfB",
      "execution_count": null,
      "outputs": []
    },
    {
      "cell_type": "code",
      "execution_count": null,
      "id": "b3a48be5",
      "metadata": {
        "id": "b3a48be5"
      },
      "outputs": [],
      "source": []
    },
    {
      "cell_type": "code",
      "execution_count": null,
      "id": "61b7f4f8",
      "metadata": {
        "id": "61b7f4f8"
      },
      "outputs": [],
      "source": []
    },
    {
      "cell_type": "markdown",
      "id": "3f9db696",
      "metadata": {
        "id": "3f9db696"
      },
      "source": [
        "# Heading 1\n",
        "Python adalah bahasa pemrograman yang menyenangkan untuk dipelajari. Bahasa pemrograman python untuk data scientist berguna memproses :\n",
        "1. Data visualisasi\n",
        "2. Data cleaning\n",
        "3. Modelling Machine Learning\n",
        "\n",
        "- Modelling Machine Learning\n",
        "- Data cleaning\n",
        "- Data visualisasi\n",
        "\n",
        "## Heading 2\n",
        "### Heading 3\n",
        "#### Heading 4\n",
        "##### Heading 5"
      ]
    },
    {
      "cell_type": "code",
      "execution_count": null,
      "id": "312f438d",
      "metadata": {
        "colab": {
          "base_uri": "https://localhost:8080/"
        },
        "id": "312f438d",
        "outputId": "b4ec1724-af62-4e20-c723-8a40a78d4dbf"
      },
      "outputs": [
        {
          "output_type": "stream",
          "name": "stdout",
          "text": [
            "temen-temen DS belajar python\n"
          ]
        }
      ],
      "source": [
        "# print value\n",
        "print('temen-temen DS belajar python')"
      ]
    },
    {
      "cell_type": "code",
      "source": [
        "teman_ds = 'temen-temen DS belajar python'\n",
        "teman_ds"
      ],
      "metadata": {
        "colab": {
          "base_uri": "https://localhost:8080/",
          "height": 35
        },
        "id": "P52cISV1H8kr",
        "outputId": "1692bc07-6f5b-446c-c232-7ad38c410e6b"
      },
      "id": "P52cISV1H8kr",
      "execution_count": null,
      "outputs": [
        {
          "output_type": "execute_result",
          "data": {
            "text/plain": [
              "'temen-temen DS belajar python'"
            ],
            "application/vnd.google.colaboratory.intrinsic+json": {
              "type": "string"
            }
          },
          "metadata": {},
          "execution_count": 2
        }
      ]
    },
    {
      "cell_type": "code",
      "source": [
        "teman_ds = 'temen-temen DS belajar python'\n",
        "print(teman_ds)"
      ],
      "metadata": {
        "colab": {
          "base_uri": "https://localhost:8080/"
        },
        "id": "d36CCEpoIBUi",
        "outputId": "3432af8f-3214-4fdc-a75e-d04fca997f3d"
      },
      "id": "d36CCEpoIBUi",
      "execution_count": null,
      "outputs": [
        {
          "output_type": "stream",
          "name": "stdout",
          "text": [
            "temen-temen DS belajar python\n"
          ]
        }
      ]
    },
    {
      "cell_type": "code",
      "execution_count": null,
      "id": "347ac592",
      "metadata": {
        "colab": {
          "base_uri": "https://localhost:8080/"
        },
        "id": "347ac592",
        "outputId": "ed4c6075-7ca7-4788-ae7f-87ca7f8ff118"
      },
      "outputs": [
        {
          "output_type": "stream",
          "name": "stdout",
          "text": [
            "5\n",
            "Bootcamp Data Scientist\n"
          ]
        }
      ],
      "source": [
        "x = 5\n",
        "y = \"Bootcamp Data Scientist\"\n",
        "\n",
        "\n",
        "# x and y are variable\n",
        "\n",
        "print(x) # print output value x\n",
        "print(y) # print output value y"
      ]
    },
    {
      "cell_type": "markdown",
      "id": "563fe28a",
      "metadata": {
        "id": "563fe28a"
      },
      "source": [
        "Variables do not need to be declared with any particular type, and can even change type after they have been set."
      ]
    },
    {
      "cell_type": "code",
      "execution_count": null,
      "id": "a51f062c",
      "metadata": {
        "colab": {
          "base_uri": "https://localhost:8080/"
        },
        "id": "a51f062c",
        "outputId": "a993d6d7-d723-4f89-a314-b0c5a74a832a"
      },
      "outputs": [
        {
          "output_type": "stream",
          "name": "stdout",
          "text": [
            "3.8\n"
          ]
        }
      ],
      "source": [
        "x = 4     # x is of type int\n",
        "x = \"Sally\" # x is now of type str\n",
        "x = 3.8\n",
        "print(x)"
      ]
    },
    {
      "cell_type": "code",
      "source": [
        "# ini adalah comment"
      ],
      "metadata": {
        "id": "EEngTwtIIv87"
      },
      "id": "EEngTwtIIv87",
      "execution_count": null,
      "outputs": []
    },
    {
      "cell_type": "code",
      "execution_count": null,
      "id": "d1750695",
      "metadata": {
        "id": "d1750695",
        "colab": {
          "base_uri": "https://localhost:8080/"
        },
        "outputId": "8f4120d2-a889-4ebd-afa6-64979218b247"
      },
      "outputs": [
        {
          "output_type": "stream",
          "name": "stdout",
          "text": [
            "4\n",
            "Sally\n"
          ]
        }
      ],
      "source": [
        "x = 4     # x is of type int\n",
        "print(x)\n",
        "x = \"Sally\" # x is now of type str\n",
        "print(x)"
      ]
    },
    {
      "cell_type": "markdown",
      "id": "a11be9d8",
      "metadata": {
        "id": "a11be9d8"
      },
      "source": [
        "## Casting\n",
        "\n",
        "If you want to specify the data type of a variable, this can be done with casting."
      ]
    },
    {
      "cell_type": "code",
      "execution_count": null,
      "id": "6a2363c1",
      "metadata": {
        "colab": {
          "base_uri": "https://localhost:8080/"
        },
        "id": "6a2363c1",
        "outputId": "ad5fc040-2c76-4b27-bdb2-ea895849a1db"
      },
      "outputs": [
        {
          "output_type": "stream",
          "name": "stdout",
          "text": [
            "3\n",
            "3\n",
            "3.0\n"
          ]
        }
      ],
      "source": [
        "x = str(3)    # x will be '3'\n",
        "y = int(3)    # y will be 3\n",
        "z = float(3)  # z will be 3.0\n",
        "\n",
        "print(x)\n",
        "print(y)\n",
        "print(z)"
      ]
    },
    {
      "cell_type": "code",
      "execution_count": null,
      "id": "e59f9215",
      "metadata": {
        "id": "e59f9215",
        "outputId": "740c6966-26d1-413b-9b93-43b8bd2e8bba",
        "colab": {
          "base_uri": "https://localhost:8080/",
          "height": 35
        }
      },
      "outputs": [
        {
          "output_type": "execute_result",
          "data": {
            "text/plain": [
              "'3'"
            ],
            "application/vnd.google.colaboratory.intrinsic+json": {
              "type": "string"
            }
          },
          "metadata": {},
          "execution_count": 9
        }
      ],
      "source": [
        "x"
      ]
    },
    {
      "cell_type": "code",
      "source": [
        "y"
      ],
      "metadata": {
        "colab": {
          "base_uri": "https://localhost:8080/"
        },
        "id": "RkQHLD-rqoXX",
        "outputId": "57eb961f-a05a-47ae-f540-30e349f7c528"
      },
      "id": "RkQHLD-rqoXX",
      "execution_count": null,
      "outputs": [
        {
          "output_type": "execute_result",
          "data": {
            "text/plain": [
              "3"
            ]
          },
          "metadata": {},
          "execution_count": 14
        }
      ]
    },
    {
      "cell_type": "code",
      "source": [
        "z"
      ],
      "metadata": {
        "colab": {
          "base_uri": "https://localhost:8080/"
        },
        "id": "z5ZbbCkJqpnj",
        "outputId": "e1a5468f-7669-4b07-aff7-740f51d4d520"
      },
      "id": "z5ZbbCkJqpnj",
      "execution_count": null,
      "outputs": [
        {
          "output_type": "execute_result",
          "data": {
            "text/plain": [
              "3.0"
            ]
          },
          "metadata": {},
          "execution_count": 11
        }
      ]
    },
    {
      "cell_type": "markdown",
      "id": "4f38d839",
      "metadata": {
        "id": "4f38d839"
      },
      "source": [
        "## Get the Type\n",
        "\n",
        "You can get the data type of a variable with the type() function."
      ]
    },
    {
      "cell_type": "code",
      "execution_count": null,
      "id": "cab5fcf6",
      "metadata": {
        "colab": {
          "base_uri": "https://localhost:8080/"
        },
        "id": "cab5fcf6",
        "outputId": "a34f7537-e446-4095-b07f-b68d2003dbad"
      },
      "outputs": [
        {
          "output_type": "stream",
          "name": "stdout",
          "text": [
            "<class 'int'>\n",
            "<class 'str'>\n",
            "<class 'float'>\n"
          ]
        }
      ],
      "source": [
        "# assign x and y with check value type\n",
        "variabel_x = 5\n",
        "variabel_y = \"9.99\"\n",
        "variabel_z = 3.5\n",
        "print(type(variabel_x))\n",
        "print(type(variabel_y))\n",
        "print(type(variabel_z))"
      ]
    },
    {
      "cell_type": "code",
      "execution_count": null,
      "id": "9020cef0",
      "metadata": {
        "id": "9020cef0",
        "outputId": "42806606-8b64-4af4-d98f-481661bff6d4",
        "colab": {
          "base_uri": "https://localhost:8080/"
        }
      },
      "outputs": [
        {
          "output_type": "execute_result",
          "data": {
            "text/plain": [
              "int"
            ]
          },
          "metadata": {},
          "execution_count": 17
        }
      ],
      "source": [
        "type(variabel_x)"
      ]
    },
    {
      "cell_type": "markdown",
      "id": "79712e08",
      "metadata": {
        "id": "79712e08"
      },
      "source": [
        "Complete explanation about Data Type : https://www.w3schools.com/python/python_datatypes.asp"
      ]
    },
    {
      "cell_type": "markdown",
      "id": "bf5a0f6b",
      "metadata": {
        "id": "bf5a0f6b"
      },
      "source": [
        "## Single or Double Quotes?\n",
        "\n",
        "String variables can be declared either by using single or double quotes:"
      ]
    },
    {
      "cell_type": "code",
      "execution_count": 3,
      "id": "13eac326",
      "metadata": {
        "colab": {
          "base_uri": "https://localhost:8080/"
        },
        "id": "13eac326",
        "outputId": "e5ad4b13-5ec9-46ec-d5ab-ff2720a9930c"
      },
      "outputs": [
        {
          "output_type": "stream",
          "name": "stdout",
          "text": [
            "John 14\n",
            "John\n"
          ]
        }
      ],
      "source": [
        "x = \"John 14\"\n",
        "print(x)\n",
        "\n",
        "#double quotes are the same as single quotes:\n",
        "\n",
        "x = 'John'\n",
        "print(x)"
      ]
    },
    {
      "cell_type": "code",
      "execution_count": null,
      "id": "4f4abde1",
      "metadata": {
        "colab": {
          "base_uri": "https://localhost:8080/",
          "height": 35
        },
        "id": "4f4abde1",
        "outputId": "c9fc97de-48d6-4ccb-a419-a1cea336cb19"
      },
      "outputs": [
        {
          "output_type": "execute_result",
          "data": {
            "text/plain": [
              "\"Ra'if\""
            ],
            "application/vnd.google.colaboratory.intrinsic+json": {
              "type": "string"
            }
          },
          "metadata": {},
          "execution_count": 34
        }
      ],
      "source": [
        "a = \"Ra'if\"\n",
        "a"
      ]
    },
    {
      "cell_type": "code",
      "execution_count": null,
      "id": "e02d45d4",
      "metadata": {
        "colab": {
          "base_uri": "https://localhost:8080/"
        },
        "id": "e02d45d4",
        "outputId": "93ebb4cd-e86d-46b4-927b-7c029d0619a8"
      },
      "outputs": [
        {
          "output_type": "stream",
          "name": "stdout",
          "text": [
            "\n",
            "kita belajar python\n",
            "hari ini di event dibimbing seru banget\n",
            "\n"
          ]
        }
      ],
      "source": [
        "kalimat = '''\n",
        "kita belajar python\n",
        "hari ini di event dibimbing seru banget\n",
        "'''\n",
        "print(kalimat)"
      ]
    },
    {
      "cell_type": "code",
      "execution_count": null,
      "id": "4d964701",
      "metadata": {
        "colab": {
          "base_uri": "https://localhost:8080/",
          "height": 35
        },
        "id": "4d964701",
        "outputId": "0bfe28fa-4208-4365-d67a-8312cb0e5dcc"
      },
      "outputs": [
        {
          "output_type": "execute_result",
          "data": {
            "text/plain": [
              "'\\nhari ini pertemuan belajar python\\ndan serung banget eventnya\\n'"
            ],
            "application/vnd.google.colaboratory.intrinsic+json": {
              "type": "string"
            }
          },
          "metadata": {},
          "execution_count": 22
        }
      ],
      "source": [
        "kalimat = \"\"\"\n",
        "hari ini pertemuan belajar python\n",
        "dan serung banget eventnya\n",
        "\"\"\"\n",
        "kalimat"
      ]
    },
    {
      "cell_type": "markdown",
      "id": "e2f98bc9",
      "metadata": {
        "id": "e2f98bc9"
      },
      "source": [
        "## Case-Sensitive\n",
        "\n",
        "Variable names are case-sensitive."
      ]
    },
    {
      "cell_type": "code",
      "execution_count": null,
      "id": "4763f8c0",
      "metadata": {
        "colab": {
          "base_uri": "https://localhost:8080/"
        },
        "id": "4763f8c0",
        "outputId": "73fce8fa-1466-4994-8d16-eefe03abe6b5"
      },
      "outputs": [
        {
          "output_type": "stream",
          "name": "stdout",
          "text": [
            "4\n",
            "Sally\n"
          ]
        }
      ],
      "source": [
        "# case sensitive\n",
        "a = 4\n",
        "A = \"Sally\"\n",
        "\n",
        "print(a)\n",
        "print(A)"
      ]
    },
    {
      "cell_type": "code",
      "execution_count": null,
      "id": "bdb26b3f",
      "metadata": {
        "colab": {
          "base_uri": "https://localhost:8080/"
        },
        "id": "bdb26b3f",
        "outputId": "3f3ef3fe-b1d5-4fbf-d39b-6ed662af1ea4"
      },
      "outputs": [
        {
          "output_type": "stream",
          "name": "stdout",
          "text": [
            "False\n"
          ]
        }
      ],
      "source": [
        "# case sensitive\n",
        "b = 'Sally'\n",
        "B = 'sally'\n",
        "print(b==B)"
      ]
    },
    {
      "cell_type": "markdown",
      "id": "bfbd7f52",
      "metadata": {
        "id": "bfbd7f52"
      },
      "source": [
        "## Legal Variabel name"
      ]
    },
    {
      "cell_type": "code",
      "execution_count": null,
      "id": "44a4ff9f",
      "metadata": {
        "colab": {
          "base_uri": "https://localhost:8080/"
        },
        "id": "44a4ff9f",
        "outputId": "7c8f1a88-9d5d-45dd-dc1a-8aff72feef0d"
      },
      "outputs": [
        {
          "output_type": "stream",
          "name": "stdout",
          "text": [
            "dibimbing\n",
            "dibimbing\n",
            "dibimbing\n",
            "dibimbing\n",
            "dibimbing\n",
            "dibimbing\n",
            "dibimbing\n"
          ]
        }
      ],
      "source": [
        "myvar = \"dibimbing\" # huruf kecil semua\n",
        "my_var = \"dibimbing\" # setiap kata dipisahkan underscore character\n",
        "_my_var = \"dibimbing\" # tipe snake case, dipisahkan oleh underscore\n",
        "myVar = \"dibimbing\" # Camel Case : huruf pertama kecil, kata berikutnya memiliki huruf awalannya besar\n",
        "MYVAR = \"dibimbing\" # Huruf besar semua\n",
        "myvar2 = \"dibimbing\" # huruf kecil + angka\n",
        "MYVAR2 = \"dibimbing\" # Huruf besar semua\n",
        "\n",
        "print(myvar)\n",
        "print(my_var)\n",
        "print(_my_var)\n",
        "print(myVar)\n",
        "print(MYVAR)\n",
        "print(myvar2)\n",
        "print(MYVAR2)"
      ]
    },
    {
      "cell_type": "markdown",
      "id": "41569573",
      "metadata": {
        "id": "41569573"
      },
      "source": [
        "## Illegal Variabel Name"
      ]
    },
    {
      "cell_type": "code",
      "execution_count": null,
      "id": "bd190c60",
      "metadata": {
        "colab": {
          "base_uri": "https://localhost:8080/",
          "height": 108
        },
        "id": "bd190c60",
        "outputId": "0712ac1e-9d75-41a9-9b53-7a2406ecc008"
      },
      "outputs": [
        {
          "output_type": "error",
          "ename": "SyntaxError",
          "evalue": "invalid decimal literal (ipython-input-29-3924961816.py, line 1)",
          "traceback": [
            "\u001b[0;36m  File \u001b[0;32m\"/tmp/ipython-input-29-3924961816.py\"\u001b[0;36m, line \u001b[0;32m1\u001b[0m\n\u001b[0;31m    -1myvar =  10\u001b[0m\n\u001b[0m     ^\u001b[0m\n\u001b[0;31mSyntaxError\u001b[0m\u001b[0;31m:\u001b[0m invalid decimal literal\n"
          ]
        }
      ],
      "source": [
        "-1myvar =  10\n",
        "\n",
        "#This example will produce an error in the result"
      ]
    },
    {
      "cell_type": "code",
      "execution_count": null,
      "id": "4c030272",
      "metadata": {
        "id": "4c030272",
        "outputId": "eb668052-9432-413a-8aa1-0a3116d177d5",
        "colab": {
          "base_uri": "https://localhost:8080/",
          "height": 108
        }
      },
      "outputs": [
        {
          "output_type": "error",
          "ename": "SyntaxError",
          "evalue": "cannot assign to expression here. Maybe you meant '==' instead of '='? (ipython-input-31-3947910070.py, line 1)",
          "traceback": [
            "\u001b[0;36m  File \u001b[0;32m\"/tmp/ipython-input-31-3947910070.py\"\u001b[0;36m, line \u001b[0;32m1\u001b[0m\n\u001b[0;31m    my+var = \"John\"\u001b[0m\n\u001b[0m    ^\u001b[0m\n\u001b[0;31mSyntaxError\u001b[0m\u001b[0;31m:\u001b[0m cannot assign to expression here. Maybe you meant '==' instead of '='?\n"
          ]
        }
      ],
      "source": [
        "my+var = \"John\"\n",
        "\n",
        "#This example will produce an error in the result"
      ]
    },
    {
      "cell_type": "code",
      "execution_count": null,
      "id": "0de4defe",
      "metadata": {
        "colab": {
          "base_uri": "https://localhost:8080/",
          "height": 108
        },
        "id": "0de4defe",
        "outputId": "1b141525-cc23-4260-c8f9-8da4b24b9fc8"
      },
      "outputs": [
        {
          "output_type": "error",
          "ename": "SyntaxError",
          "evalue": "invalid syntax (ipython-input-32-2648660556.py, line 1)",
          "traceback": [
            "\u001b[0;36m  File \u001b[0;32m\"/tmp/ipython-input-32-2648660556.py\"\u001b[0;36m, line \u001b[0;32m1\u001b[0m\n\u001b[0;31m    my var = \"John\"\u001b[0m\n\u001b[0m       ^\u001b[0m\n\u001b[0;31mSyntaxError\u001b[0m\u001b[0;31m:\u001b[0m invalid syntax\n"
          ]
        }
      ],
      "source": [
        "my var = \"John\"\n",
        "\n",
        "#This example will produce an error in the result"
      ]
    },
    {
      "cell_type": "markdown",
      "id": "164e6a80",
      "metadata": {
        "id": "164e6a80"
      },
      "source": [
        "## Ouput Variables\n",
        "The Python print() function is often used to output variables."
      ]
    },
    {
      "cell_type": "markdown",
      "id": "a0898a99",
      "metadata": {
        "id": "a0898a99"
      },
      "source": [
        "Notice the space character after \"Python \" and \"is \", without them the result would be \"Pythonisawesome\"."
      ]
    },
    {
      "cell_type": "code",
      "execution_count": null,
      "id": "8e966d7d",
      "metadata": {
        "colab": {
          "base_uri": "https://localhost:8080/"
        },
        "id": "8e966d7d",
        "outputId": "5fbc7947-9222-4484-da6e-185d9536e183"
      },
      "outputs": [
        {
          "output_type": "stream",
          "name": "stdout",
          "text": [
            "15.8\n"
          ]
        }
      ],
      "source": [
        "# sum\n",
        "x = 5\n",
        "y = 10.8\n",
        "print(x + y)"
      ]
    },
    {
      "cell_type": "code",
      "execution_count": null,
      "id": "aad93a2b",
      "metadata": {
        "colab": {
          "base_uri": "https://localhost:8080/",
          "height": 178
        },
        "id": "aad93a2b",
        "outputId": "491b7dea-dbb4-42d7-c841-64df6331bade"
      },
      "outputs": [
        {
          "output_type": "error",
          "ename": "TypeError",
          "evalue": "unsupported operand type(s) for +: 'int' and 'str'",
          "traceback": [
            "\u001b[0;31m---------------------------------------------------------------------------\u001b[0m",
            "\u001b[0;31mTypeError\u001b[0m                                 Traceback (most recent call last)",
            "\u001b[0;32m/tmp/ipython-input-36-1392074512.py\u001b[0m in \u001b[0;36m<cell line: 0>\u001b[0;34m()\u001b[0m\n\u001b[1;32m      2\u001b[0m \u001b[0mx\u001b[0m \u001b[0;34m=\u001b[0m \u001b[0;36m5\u001b[0m\u001b[0;34m\u001b[0m\u001b[0;34m\u001b[0m\u001b[0m\n\u001b[1;32m      3\u001b[0m \u001b[0my\u001b[0m \u001b[0;34m=\u001b[0m \u001b[0;34m\"John\"\u001b[0m\u001b[0;34m\u001b[0m\u001b[0;34m\u001b[0m\u001b[0m\n\u001b[0;32m----> 4\u001b[0;31m \u001b[0mprint\u001b[0m\u001b[0;34m(\u001b[0m\u001b[0mx\u001b[0m \u001b[0;34m+\u001b[0m \u001b[0my\u001b[0m\u001b[0;34m)\u001b[0m\u001b[0;34m\u001b[0m\u001b[0;34m\u001b[0m\u001b[0m\n\u001b[0m",
            "\u001b[0;31mTypeError\u001b[0m: unsupported operand type(s) for +: 'int' and 'str'"
          ]
        }
      ],
      "source": [
        "# cannot sum numeric + string\n",
        "x = 5\n",
        "y = \"John\"\n",
        "print(x + y)"
      ]
    },
    {
      "cell_type": "code",
      "source": [
        "# cannot sum numeric + string\n",
        "x = '5'\n",
        "y = \"John\"\n",
        "print(x + y)"
      ],
      "metadata": {
        "colab": {
          "base_uri": "https://localhost:8080/"
        },
        "id": "e8tgXlUgsgRe",
        "outputId": "f46fede9-96a9-40b9-930a-be7dca71cf19"
      },
      "id": "e8tgXlUgsgRe",
      "execution_count": null,
      "outputs": [
        {
          "output_type": "stream",
          "name": "stdout",
          "text": [
            "5John\n"
          ]
        }
      ]
    },
    {
      "cell_type": "markdown",
      "id": "6710ad46",
      "metadata": {
        "id": "6710ad46"
      },
      "source": [
        "The best way to output multiple variables in the print() function is to separate them with commas, which even support different data types:"
      ]
    },
    {
      "cell_type": "markdown",
      "id": "f4617870",
      "metadata": {
        "id": "f4617870"
      },
      "source": [
        "## Python Conditions and If statements\n",
        "\n",
        "### Python supports the usual logical conditions from mathematics:\n",
        "\n",
        " -   Equals: a == b\n",
        " -   Not Equals: a != b\n",
        " -   Less than: a < b\n",
        " -   Less than or equal to: a <= b\n",
        " -   Greater than: a > b\n",
        " -   Greater than or equal to: a >= b\n",
        "\n",
        "These conditions can be used in several ways, most commonly in \"if statements\" and loops.\n",
        "\n",
        "An \"if statement\" is written by using the if keyword.\n",
        "\n",
        "## If"
      ]
    },
    {
      "cell_type": "code",
      "execution_count": null,
      "id": "046431fd",
      "metadata": {
        "id": "046431fd"
      },
      "outputs": [],
      "source": [
        "a = 20\n",
        "b = 10\n",
        "if b > a: # jika kondisi b > a benar maka akan memerintah kondisi indentasi dibawah\n",
        "    print(\"b is greater than a\")\n",
        "\n",
        "# if condition"
      ]
    },
    {
      "cell_type": "code",
      "execution_count": null,
      "id": "9ae64683",
      "metadata": {
        "colab": {
          "base_uri": "https://localhost:8080/"
        },
        "id": "9ae64683",
        "outputId": "04dcaef3-2c5a-4118-84ad-f05f32868cbe"
      },
      "outputs": [
        {
          "output_type": "stream",
          "name": "stdout",
          "text": [
            "b is greater than a\n"
          ]
        }
      ],
      "source": [
        "a = 33\n",
        "b = 200\n",
        "if b > a: # jika kondisi b > a benar maka akan memerintah kondisi indentasi dibawah\n",
        "  output = \"b is greater than a\"\n",
        "  print(output) # you will get an error ( tidak ada indentasi )"
      ]
    },
    {
      "cell_type": "markdown",
      "id": "1f575903",
      "metadata": {
        "id": "1f575903"
      },
      "source": [
        "## Elif\n",
        "\n",
        "The elif keyword is Python's way of saying \"if the previous conditions were not true, then try this condition\"."
      ]
    },
    {
      "cell_type": "code",
      "execution_count": null,
      "id": "e8a13596",
      "metadata": {
        "colab": {
          "base_uri": "https://localhost:8080/"
        },
        "id": "e8a13596",
        "outputId": "82591657-5dc0-4fb2-eb19-6697ce9f3f47"
      },
      "outputs": [
        {
          "output_type": "stream",
          "name": "stdout",
          "text": [
            "b is greater than a\n"
          ]
        }
      ],
      "source": [
        "# if and elif\n",
        "a = 33\n",
        "b = 43\n",
        "if b > a:\n",
        "    print(\"b is greater than a\")\n",
        "elif a == b:\n",
        "    print(\"a and b are equal\")"
      ]
    },
    {
      "cell_type": "markdown",
      "id": "1782ecaa",
      "metadata": {
        "id": "1782ecaa"
      },
      "source": [
        "In this example a is equal to b, so the first condition is not true, but the elif condition is true, so we print to screen that \"a and b are equal\"."
      ]
    },
    {
      "cell_type": "markdown",
      "id": "45afb84c",
      "metadata": {
        "id": "45afb84c"
      },
      "source": [
        "## Else\n",
        "\n",
        "The else keyword catches anything which isn't caught by the preceding conditions."
      ]
    },
    {
      "cell_type": "code",
      "execution_count": null,
      "id": "718df852",
      "metadata": {
        "colab": {
          "base_uri": "https://localhost:8080/"
        },
        "id": "718df852",
        "outputId": "42bd04bd-4dbd-417f-bb15-4172b6656e05"
      },
      "outputs": [
        {
          "output_type": "stream",
          "name": "stdout",
          "text": [
            "unknown value\n"
          ]
        }
      ],
      "source": [
        "# if and elif and else\n",
        "\n",
        "a = 200\n",
        "b = 33\n",
        "if b > a:\n",
        "    print(\"b is greater than a\")\n",
        "elif a == b:\n",
        "    print(\"a and b are equal\")\n",
        "elif a<b:\n",
        "    print(\"a less than b\")\n",
        "else:\n",
        "    print('unknown value')"
      ]
    },
    {
      "cell_type": "markdown",
      "id": "e8212e74",
      "metadata": {
        "id": "e8212e74"
      },
      "source": [
        "In this example a is greater than b, so the first condition is not true, also the elif condition is not true, so we go to the else condition and print to screen that \"a is greater than b\".\n",
        "You can also have an else without the elif:"
      ]
    },
    {
      "cell_type": "code",
      "source": [
        "5 < 3"
      ],
      "metadata": {
        "colab": {
          "base_uri": "https://localhost:8080/"
        },
        "id": "9KYmherltfR4",
        "outputId": "f7e3640c-3f67-48cd-eaee-73f5c0f0810e"
      },
      "id": "9KYmherltfR4",
      "execution_count": null,
      "outputs": [
        {
          "output_type": "execute_result",
          "data": {
            "text/plain": [
              "False"
            ]
          },
          "metadata": {},
          "execution_count": 49
        }
      ]
    },
    {
      "cell_type": "code",
      "execution_count": null,
      "id": "27380469",
      "metadata": {
        "colab": {
          "base_uri": "https://localhost:8080/"
        },
        "id": "27380469",
        "outputId": "b57ccb7e-66b4-4228-e038-75e24836c59c"
      },
      "outputs": [
        {
          "output_type": "stream",
          "name": "stdout",
          "text": [
            "b is not greater than a\n"
          ]
        }
      ],
      "source": [
        "# if and else\n",
        "\n",
        "a = 200\n",
        "b = 33\n",
        "if b > a:\n",
        "    print(\"b is greater than a\")\n",
        "else:\n",
        "    print(\"b is not greater than a\")"
      ]
    },
    {
      "cell_type": "markdown",
      "id": "3f4cb269",
      "metadata": {
        "id": "3f4cb269"
      },
      "source": [
        "## And\n",
        "\n",
        "The and keyword is a logical operator, and is used to combine conditional statements:"
      ]
    },
    {
      "cell_type": "code",
      "execution_count": null,
      "id": "11524c82",
      "metadata": {
        "colab": {
          "base_uri": "https://localhost:8080/"
        },
        "id": "11524c82",
        "outputId": "947a924f-ba02-461c-e0b4-5e1795cce1b1"
      },
      "outputs": [
        {
          "output_type": "stream",
          "name": "stdout",
          "text": [
            "there are no condition\n"
          ]
        }
      ],
      "source": [
        "# and condition\n",
        "a = 5\n",
        "b = 3\n",
        "c = 8\n",
        "if a > b and c > a and a == b:\n",
        "    print(\"Both conditions are True\")\n",
        "else:\n",
        "    print('there are no condition')"
      ]
    },
    {
      "cell_type": "markdown",
      "id": "ba26e6ce",
      "metadata": {
        "id": "ba26e6ce"
      },
      "source": [
        "## Or\n",
        "\n",
        "The or keyword is a logical operator, and is used to combine conditional statements:"
      ]
    },
    {
      "cell_type": "code",
      "execution_count": null,
      "id": "f58ad65b",
      "metadata": {
        "id": "f58ad65b",
        "colab": {
          "base_uri": "https://localhost:8080/"
        },
        "outputId": "bbacbe3a-9097-4765-8048-0f7b3c7fcb5d"
      },
      "outputs": [
        {
          "output_type": "stream",
          "name": "stdout",
          "text": [
            "At least one of the conditions is True\n"
          ]
        }
      ],
      "source": [
        "# if and or condition\n",
        "a = 200\n",
        "b = 33\n",
        "c = 500\n",
        "if a > b or a > c and b == c:\n",
        "    print(\"At least one of the conditions is True\")"
      ]
    },
    {
      "cell_type": "markdown",
      "id": "8e049938",
      "metadata": {
        "id": "8e049938"
      },
      "source": [
        "## Not\n",
        "\n",
        "The not keyword is a logical operator, and is used to reverse the result of the conditional statement:"
      ]
    },
    {
      "cell_type": "code",
      "execution_count": null,
      "id": "215d088b",
      "metadata": {
        "colab": {
          "base_uri": "https://localhost:8080/"
        },
        "id": "215d088b",
        "outputId": "3fb83477-bc84-405d-e2e3-0e6c25f7685b"
      },
      "outputs": [
        {
          "output_type": "stream",
          "name": "stdout",
          "text": [
            "a is NOT greater than b\n"
          ]
        }
      ],
      "source": [
        "# not condition\n",
        "a = 33\n",
        "b = 200\n",
        "if a != b:\n",
        "    print(\"a is NOT greater than b\")"
      ]
    },
    {
      "cell_type": "markdown",
      "id": "6524b515",
      "metadata": {
        "id": "6524b515"
      },
      "source": [
        "# Thank you :)"
      ]
    }
  ],
  "metadata": {
    "kernelspec": {
      "display_name": "Python 3 (ipykernel)",
      "language": "python",
      "name": "python3"
    },
    "language_info": {
      "codemirror_mode": {
        "name": "ipython",
        "version": 3
      },
      "file_extension": ".py",
      "mimetype": "text/x-python",
      "name": "python",
      "nbconvert_exporter": "python",
      "pygments_lexer": "ipython3",
      "version": "3.11.4"
    },
    "colab": {
      "provenance": []
    }
  },
  "nbformat": 4,
  "nbformat_minor": 5
}